{
 "cells": [
  {
   "cell_type": "markdown",
   "metadata": {},
   "source": [
    "# matplotlibで利用可能な日本語フォント\n",
    "\n",
    "matplotlibで描画するグラフに日本語文字を張りたい場合は、\n",
    "使用するフォントの種類に日本語が書き出し可能なフォントを指定する必要があります。\n",
    "\n",
    "## 1. 現状の確認方法\n",
    "まず、現在の設定は以下で確認できます。"
   ]
  },
  {
   "cell_type": "code",
   "execution_count": 8,
   "metadata": {},
   "outputs": [
    {
     "name": "stdout",
     "output_type": "stream",
     "text": [
      "デフォルトのフォントファミリー ['Yu Mincho']\n",
      "sans-serifのフォントリスト（最初のものから順に優先）： ['DejaVu Sans', 'Bitstream Vera Sans', 'Computer Modern Sans Serif', 'Lucida Grande', 'Verdana', 'Geneva', 'Lucid', 'Arial', 'Helvetica', 'Avant Garde', 'sans-serif']\n"
     ]
    }
   ],
   "source": [
    "import matplotlib as plt\n",
    "print('デフォルトのフォントファミリー',plt.rcParams[\"font.family\"])\n",
    "print('sans-serifのフォントリスト（最初のものから順に優先）：',plt.rcParams[\"font.sans-serif\"])"
   ]
  },
  {
   "cell_type": "markdown",
   "metadata": {},
   "source": [
    "デフォルトのフォントファミリーは'sans-serif'となっているのではないでしょうか？\n",
    "\n",
    "アルファベットの大分類には「serif」「sans-serif」「cursive」「fantasy」「monospace」があり、ここで指定しているのはこの大分類です。   \n",
    "日本語フォントうち、「MSゴシック」や「游ゴシック」「HGPゴシックE」のようなゴシック体は「sans-serif」フォントの一つですし、「MS明朝」や「游明朝」「HGP明朝E」のような明朝体は「serif」フォントの一つです。\n",
    "\n",
    "sans-serifが指定されると、今度はfont.sans-serifのリストを参照し、リストの上から順に、インストール済みのフォントが使われることになります。   \n",
    "ここに日本語を書き出し可能なフォントが含まれていないので、デフォルトのままだと日本語文字が「□」になってしまいます。\n",
    "\n"
   ]
  },
  {
   "cell_type": "markdown",
   "metadata": {},
   "source": [
    "## 2. 使用できるフォントの確認\n",
    "\n",
    "どのフォントが使用できるかは、それぞれのPCの環境によって異なります。   \n",
    "以下のセルを実行し、使用できるフォントのリストを表示してください。   \n",
    "\n",
    "この中で、「Gothic」や「Mincho」が含まれているフォントは、日本語が書き出せるフォントだと思います（違ったら私の理解が間違っているので、お手数ですがメッセージにてご報告を！）。"
   ]
  },
  {
   "cell_type": "code",
   "execution_count": 9,
   "metadata": {},
   "outputs": [
    {
     "name": "stdout",
     "output_type": "stream",
     "text": [
      "['DejaVu Serif Display', 'STIXNonUnicode', 'STIXGeneral', 'STIXGeneral', 'DejaVu Sans Mono', 'cmb10', 'STIXGeneral', 'cmss10', 'STIXNonUnicode', 'DejaVu Serif', 'STIXSizeOneSym', 'STIXSizeFiveSym', 'STIXSizeFourSym', 'DejaVu Sans Mono', 'STIXSizeOneSym', 'cmtt10', 'STIXGeneral', 'DejaVu Serif', 'STIXNonUnicode', 'STIXSizeThreeSym', 'STIXSizeTwoSym', 'STIXSizeFourSym', 'DejaVu Sans', 'DejaVu Serif', 'DejaVu Sans Display', 'STIXNonUnicode', 'STIXSizeTwoSym', 'cmmi10', 'DejaVu Serif', 'cmsy10', 'DejaVu Sans', 'cmr10', 'DejaVu Sans', 'DejaVu Sans', 'cmex10', 'DejaVu Sans Mono', 'DejaVu Sans Mono', 'STIXSizeThreeSym', 'STIXIntegralsD', 'Gill Sans MT', '.SF NS Rounded', '.SF NS Display Condensed', 'Khmer Sangam MN', 'STIXSizeTwoSym', 'STIXIntegralsUpSm', 'Oriya MN', 'Papyrus', 'STIXSizeThreeSym', 'Hiragino Sans GB', 'Serto Kharput', 'STIXNonUnicode', 'System Font', 'Trattatello', 'Bitstream Vera Sans', 'STIXIntegralsUpSm', 'Devanagari Sangam MN', 'Heiti TC', 'STIXIntegralsD', 'STIXVariants', 'East Syriac Ctesiphon', 'Avenir Next Condensed', 'STIXSizeFourSym', 'STIXVariants', 'AppleMyungjo', 'PT Serif Caption', 'Cochin', 'Mishafi', '.SF Compact Text', 'System Font', 'Optima', 'Luxi Serif', 'ITF Devanagari', 'System Font', 'Arial', 'Duepuntozero', '.Arabic UI Display', 'Beirut', 'Bitstream Vera Sans Mono', '.SF Compact Text', 'Verdana', 'Hiragino Sans', 'Serto Jerusalem Outline', 'DIN Alternate', 'Diwan Thuluth', 'Times New Roman', 'Bitstream Vera Sans', '.SF NS Rounded', '.SF NS Display Condensed', 'Charter', 'Arial Rounded MT Bold', 'Luxi Serif', 'STIXSizeThreeSym', 'STIXSizeOneSym', 'Kohinoor Devanagari', 'Sinhala Sangam MN', 'Luxi Serif', '.SF NS Text Condensed', 'Waseem', 'System Font', 'Krungthep', 'Seravek', 'Corsiva Hebrew', 'Duepuntozero', 'Courier New', 'PT Sans', 'Heiti TC', 'DengXian', '.SF Compact Text', 'Brush Script MT', '.Arabic UI Text', 'System Font', 'System Font', '.SF Compact Text', '.Keyboard', 'STIXIntegralsSm', 'Verdana', 'Verdana', '.LastResort', 'Trebuchet MS', 'STIXIntegralsUp', 'Kannada MN', 'Farisi', 'Arial Narrow', 'Comic Sans MS', 'Arial Unicode MS', 'Luxi Mono', 'Kannada Sangam MN', 'Symbol', 'Serto Urhoy', '.SF NS Symbols', 'Gotham', '.SF Compact Rounded', 'Silom', 'Chalkduster', '.SF Compact Display', 'Hiragino Sans', 'Apple Braille', 'American Typewriter', '.SF Compact Rounded', 'Mshtakan', 'Kailasa', 'Hiragino Sans', 'Georgia', 'Impact', 'Tamil Sangam MN', 'Mishafi Gold', 'Myanmar MN', 'Gill Sans', 'Plantagenet Cherokee', 'Luxi Mono', 'Zapfino', 'Baghdad', 'Sukhumvit Set', 'Al Bayan', '.SF Compact Text', 'Tahoma', 'Microsoft Sans Serif', 'Luxi Serif', 'Thonburi', 'Bradley Hand', 'Skia', 'Duepuntozero', 'Phosphate', '.Helvetica Neue DeskInterface', 'System Font', 'Gill Sans MT', 'Bodoni 72 Smallcaps', 'Luxi Sans', 'Lao MN', 'Superclarendon', 'Hiragino Sans', 'Sathu', 'STIXSizeOneSym', 'Hoefler Text', 'Apple SD Gothic Neo', 'Bangla MN', 'Serto Mardin', 'Noto Nastaliq Urdu', 'STIXSizeFiveSym', 'Bodoni 72', 'Bangla Sangam MN', 'System Font', 'Verdana', 'Serto Mardin', 'Iowan Old Style', 'Damascus', 'Lao Sangam MN', '.SF NS Text Condensed', 'Bitstream Vera Serif', 'Apple Braille', 'Estrangelo Nisibin Outline', 'System Font', 'Estrangelo Edessa', 'Hoefler Text', 'Hiragino Sans', '.SF Compact Rounded', 'Helvetica Neue', 'STIXNonUnicode', 'Courier New', 'New Peninim MT', 'Estrangelo TurAbdin', 'Serto Batnan', 'Apple Braille', 'Savoye LET', '.SF NS Rounded', '.SF NS Display Condensed', 'Hiragino Sans', 'Comic Sans MS', '.SF Compact Rounded', 'Diwan Kufi', '.SF NS Text Condensed', 'Bitstream Vera Sans Mono', 'Telugu MN', 'Noteworthy', 'Myanmar Sangam MN', 'Bitstream Vera Serif', 'Apple Braille', 'Nadeem', 'KufiStandardGK', 'STIXGeneral', 'SignPainter', 'Snell Roundhand', 'Courier New', '.SF NS Display Condensed', 'Estrangelo Quenneshrin', 'Georgia', 'Trebuchet MS', 'Estrangelo Antioch', 'East Syriac Adiabene', 'Wingdings 3', 'Estrangelo Talada', '.SF NS Rounded', 'Bitstream Vera Sans', 'STIXSizeFourSym', 'STIXNonUnicode', 'Palatino', 'Telugu Sangam MN', 'Luxi Mono', 'Oriya Sangam MN', 'Kohinoor Telugu', '.SF Compact Display', '.SF NS Symbols', 'Arial Narrow', 'Luxi Sans', '.Aqua Kana', 'System Font', 'Chalkboard', 'Kohinoor Bangla', '.SF Compact Text', '.SF Compact Rounded', 'Serto Batnan', '.SF NS Rounded', '.SF Compact Text', 'Avenir Next', 'PT Serif', 'Hiragino Sans', 'Wingdings', 'Trebuchet MS', 'Luxi Sans', 'Courier New', 'Serto Jerusalem', 'Bodoni 72 Oldstyle', 'InaiMathi', '.SF NS Symbols', 'Gurmukhi MN', '.SF NS Display Condensed', 'Apple Chancery', 'Gurmukhi MT', 'Trebuchet MS', 'Zapf Dingbats', 'System Font', '.SF Compact Text', '.SF Compact Text', 'Malayalam MN', '.SF Compact Text', 'Andale Mono', '.SF NS Rounded', 'Euphemia UCAS', 'Serto Urhoy', '.SF NS Symbols', 'Arial Narrow', 'AppleGothic', 'Arial Black', 'Goha-Tibeb Zemen', 'PingFang HK', 'Khmer MN', 'Copperplate', 'Serto Jerusalem', 'Georgia', 'Apple Braille', 'Arial', '.SF Compact Display', 'Didot', 'Chalkboard SE', 'STIXIntegralsUp', 'Lucida Grande', 'Helvetica', 'Malayalam Sangam MN', 'Gujarati Sangam MN', 'Arial Narrow', 'STIXIntegralsUpD', 'Kefa', 'Estrangelo Nisibin', 'Bodoni Ornaments', 'Arial Hebrew', 'Luminari', 'Shree Devanagari 714', 'Gurmukhi Sangam MN', 'Serto Malankara', 'Ayuthaya', 'Herculanum', 'Arial', 'Raanana', '.SF NS Symbols', '.SF NS Display Condensed', 'Baskerville', '.SF Compact Rounded', 'Tahoma', 'Duepuntozero', 'Bitstream Vera Sans Mono', 'Gujarati MT', 'Times New Roman', 'Duepuntozero', 'STIXGeneral', '.SF NS Text Condensed', 'STIXSizeTwoSym', 'Al Tarikh', 'Webdings', 'Estrangelo Midyat', 'Hiragino Sans', 'Marker Felt', 'Arial', 'System Font', '.SF NS Symbols', 'STIXGeneral', '.SF Compact Display', '.SF NS Display Condensed', '.SF NS Text Condensed', '.SF Compact Text', 'Songti SC', '.SF NS Display Condensed', 'Sana', '.SF NS Rounded', 'Devanagari MT', 'Tamil MN', 'System Font', 'Times', 'Wingdings 2', '.SF NS Text Condensed', 'Marion', 'Menlo', '.SF Compact Display', '.SF Compact Rounded', 'DIN Condensed', 'Futura', 'PT Mono', 'Apple Symbols', 'System Font', '.SF NS Rounded', 'Serto Jerusalem', '.SF NS Symbols', 'STIXIntegralsUpD', '.SF NS Display Condensed', 'Kokonor', 'Hiragino Maru Gothic Pro', '.SF Compact Display', '.SF Compact Text', 'Times New Roman', 'Times New Roman', 'STIXIntegralsSm', 'Big Caslon', 'Farah', 'Hiragino Sans', 'STIXGeneral', 'Athelas', 'Luxi Mono', '.SF Compact Rounded', '.SF Compact Display', '.SF NS Symbols', 'Rockwell', 'Bitstream Vera Sans', 'Muna', 'Al Nile', 'STIXNonUnicode', 'Georgia', 'System Font', 'Hiragino Sans', 'DecoType Naskh', '.SF NS Rounded', 'System Font', 'Sinhala MN', '.SF Compact Display', '.SF NS Symbols', 'Avenir', 'Bitstream Vera Sans Mono', 'Hiragino Mincho ProN', 'Goha-Tibeb Zemen', 'Geeza Pro', '.SF Compact Display', 'Gill Sans MT', '.SF Compact Rounded', 'Luxi Sans']\n"
     ]
    }
   ],
   "source": [
    "import matplotlib.font_manager\n",
    "print([f.name for f in matplotlib.font_manager.fontManager.ttflist])"
   ]
  },
  {
   "cell_type": "markdown",
   "metadata": {},
   "source": [
    "## 3. matplotlibで日本語フォントの指定\n",
    "\n",
    "演習ファイルにも載せましたが、以下のようにして使用するフォントを指定できます。"
   ]
  },
  {
   "cell_type": "code",
   "execution_count": 10,
   "metadata": {},
   "outputs": [],
   "source": [
    "plt.rcParams[\"font.family\"] = \"Yu Mincho\""
   ]
  },
  {
   "cell_type": "markdown",
   "metadata": {},
   "source": [
    "また、macOSの場合はmatplotlibのフォントのキャッシュ削除が必要なようです。   \n",
    "「アプリケーション＞ターミナル」を開いて\n",
    "```\n",
    "rm -rf ~/.matplotlib/fontList*.cache\n",
    "```\n",
    "を実行します。   "
   ]
  },
  {
   "cell_type": "markdown",
   "metadata": {},
   "source": [
    "## 4. 日本語フォントのチェック\n",
    "\n",
    "以下のセルを実行して、日本語文字が書き出せるか確認してください。"
   ]
  },
  {
   "cell_type": "code",
   "execution_count": 11,
   "metadata": {},
   "outputs": [
    {
     "data": {
      "text/plain": [
       "Text(0.1, 0.5, 'これが表示されたら成功！')"
      ]
     },
     "execution_count": 11,
     "metadata": {},
     "output_type": "execute_result"
    },
    {
     "data": {
      "image/png": "[encoded data removed]",
      "text/plain": [
       "<Figure size 432x72 with 1 Axes>"
      ]
     },
     "metadata": {
      "needs_background": "light"
     },
     "output_type": "display_data"
    }
   ],
   "source": [
    "import matplotlib.pyplot as plt\n",
    "fig = plt.figure(figsize =(6, 1))\n",
    "ax = fig.add_subplot(111)\n",
    "ax.text(0.1, 0.5, \"これが表示されたら成功！\", size = 20, color = \"red\")"
   ]
  },
  {
   "cell_type": "code",
   "execution_count": null,
   "metadata": {},
   "outputs": [],
   "source": []
  }
 ],
 "metadata": {
  "kernelspec": {
   "display_name": "Python 3",
   "language": "python",
   "name": "python3"
  },
  "language_info": {
   "codemirror_mode": {
    "name": "ipython",
    "version": 3
   },
   "file_extension": ".py",
   "mimetype": "text/x-python",
   "name": "python",
   "nbconvert_exporter": "python",
   "pygments_lexer": "ipython3",
   "version": "3.7.4"
  }
 },
 "nbformat": 4,
 "nbformat_minor": 2
}
