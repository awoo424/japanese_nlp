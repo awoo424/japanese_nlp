{
 "cells": [
  {
   "cell_type": "markdown",
   "metadata": {},
   "source": [
    "# Guessing the author of a novel, 太宰治 or 宮沢賢治?\n",
    "\n",
    "Let's implement a method that guesses who wrote a novel of an unknown author, 太宰治 (Osamu Dazai) or 宮沢賢治 (Kenji Miyazawa).\n",
    "\n",
    "In this project, we use texts from [Aozora Bunko](https://www.aozora.gr.jp/index.html).\n",
    "We have modified the texts by removing rubies and notes written by those who typed the texts.\n",
    "We have also adjusted the number of novels by 太宰治 so that\n",
    "the total numbers of letters in novels of the two authors are nearly equal.\n",
    "\n",
    "We provide 81 novels by 太宰治, 148 novels by 宮沢賢治, and 10 novels by unknown authors.\n",
    "Observe the characteristics of the texts by 太治宰 and 宮沢賢治, and for each of the novels by unknown authors,\n",
    "guess who wrote it, 太宰治 or by 宮沢賢治.\n",
    "Among the known features for classifying texts, try to use statistical features of letter n-grams.\n",
    "\n",
    "For example, in the novels by 宮沢賢治, sentences tend to end with the です-ます style.\n",
    "On the other hand, in the novels by 太宰治, sentences tend to end with the である style.\n",
    "Therefore, given that the bi-grams in the novels by each author have been counted,\n",
    "the probability of occurrences of `です` or ` す。` should be high in the novels by 宮沢賢治,\n",
    "and that of `ある` or `る。` should be high in those by 太宰治.\n",
    "If the probability of `です` or ` す。` in the novel by an unknown author is higher than that of `ある` or `る。`,\n",
    "you can then conclude that the author is 宮沢賢治.\n",
    "\n",
    "However, some novels by 宮沢賢治 are written in the です-ます style.\n",
    "Therefore, compute the probability distribution of all the letter n-grams of each of the authors,\n",
    "and observe the similarity between the probability distribution of letter n-grams of an unknown author\n",
    "and that of 宮沢賢治 (太宰治)."
   ]
  },
  {
   "cell_type": "markdown",
   "metadata": {},
   "source": [
    "## Preparation\n",
    "\n",
    "A dataset of novels is stored into a table.\n",
    "The table of novel data consists of the columns named `author`, `title`, and `text`,\n",
    "which contain author names in Japanese, titles, and texts of novels, respectively.\n",
    "Each row of the table stores the information of one novel;\n",
    "we can identify the author of the novel by the `author` value.  \n",
    "\n",
    "In the following Exercises 1 and 5, such a table of type `DataFrame` is given to functions.\n",
    "\n",
    "Note that for-statements can handle iterations over a column extracted from `DataFrame`. \n",
    "For example, the following for-statement\n",
    "```Python\n",
    "for text in novels['text']:\n",
    "    print(text)\n",
    "```\n",
    "prints the texts of all the novels stored in `novels`."
   ]
  },
  {
   "cell_type": "code",
   "execution_count": 1,
   "metadata": {},
   "outputs": [],
   "source": [
    "def multiline_ngrams(n, text):\n",
    "    l = []\n",
    "    for sentence in text.split('\\n'):\n",
    "        for i in range(len(sentence)-n+1):\n",
    "            l.append(sentence[i:i+n])\n",
    "    return l"
   ]
  },
  {
   "cell_type": "code",
   "execution_count": 2,
   "metadata": {},
   "outputs": [],
   "source": [
    "def multiline_ngrams_gen(n, text):\n",
    "    for sentence in text.split('\\n'):\n",
    "        for i in range(len(sentence)-n+1):\n",
    "            yield sentence[i:i+n]"
   ]
  },
  {
   "cell_type": "markdown",
   "metadata": {},
   "source": [
    "## 1: Extraction of n-grams\n",
    "\n",
    "Define a function `author_ngrams(n,author,novels)` which returns a list or iterator of all n-grams\n",
    "that appear in the texts in `novels` each of which is written by `author`.\n",
    "The parameter `author` is 太宰治 or 宮沢賢治.\n",
    "\n",
    "Each n-gram must appear in the list or iterator as many times as it appears in all the novels by the author."
   ]
  },
  {
   "cell_type": "code",
   "execution_count": 3,
   "metadata": {},
   "outputs": [],
   "source": [
    "import pandas as pd\n",
    "\n",
    "def author_ngrams(n, author, novels):\n",
    "    sub_df = novels[novels['author'] == author]\n",
    "    ngrams = []\n",
    "    \n",
    "    for text in sub_df['text']:  \n",
    "        for word in multiline_ngrams(n, text):\n",
    "            ngrams.append(word)\n",
    "            \n",
    "    return (ngrams)"
   ]
  },
  {
   "cell_type": "code",
   "execution_count": 4,
   "metadata": {},
   "outputs": [
    {
     "name": "stdout",
     "output_type": "stream",
     "text": [
      "True\n",
      "True\n",
      "True\n",
      "True\n",
      "True\n",
      "True\n",
      "True\n",
      "True\n"
     ]
    }
   ],
   "source": [
    "def tester():\n",
    "    import pandas as pd\n",
    "    TEST_NOVELS = [['太宰治', '政治家と家庭', '頭の禿げた善良そうな記者君が何度も来て、書け書け、と頭の汗を拭きながらおっしゃるので、書きます。\\n佐倉宗五郎子別れの場、という芝居があります。ととさまえのう、と泣いて慕う子を振り切って、宗五郎は吹雪の中へ走って消えます。あれを、どうお思いでしょうか。アメリカ人が見たら、あれをどう感ずるでしょうか。ロシヤ人が見たら、何と判断するでしょうか。\\nしかし私たち日本人、殊に男が何か仕事に打ち込んだ場合、たいていこの宗五郎のようになってしまいます。\\n家族は、捨ててよいものでしょうか。日本の政治家たちは、たいてい家庭を捨てているようです。ひどいのになると、独身だか妻帯者だか、わからない人物もあります。しつけの良い家庭を営んでいる政治家は、少いように思われます。\\nしつけのよい家庭を維持しながら、よい仕事も出来るという政治家もあってよいと思います。これこそ、至難の事業であります。けれども、兄は、それが出来るかも知れない極めて少数のひとの一人だと思います。\\n無理なお願いでしょうけれどもお願いしてみます。私の為のお願いではありません。\\n'],\n",
    "                   ['宮沢賢治', '会計課', '九時六分のかけ時計\\nその青じろき盤面に\\nにはかに雪の反射来て\\nパンのかけらは床に落ち\\nインクの雫かわきたり\\n'],\n",
    "                  ]\n",
    "    TEST_NOVELS = pd.DataFrame(TEST_NOVELS, columns=['author', 'title', 'text'])\n",
    "    small_2_dazai = list(author_ngrams(2, '太宰治', TEST_NOVELS))\n",
    "    small_2_miyazawa = list(author_ngrams(2, '宮沢賢治', TEST_NOVELS))\n",
    "    print(len(small_2_dazai) == 452)\n",
    "    print(len(small_2_miyazawa) == 44)\n",
    "    print(small_2_dazai.count('す。') == 11)\n",
    "    print(small_2_miyazawa.count('のか') == 2)\n",
    "\n",
    "    novels = pd.read_csv('known_novels.csv', encoding='utf-8')\n",
    "    large_3_dazai = list(author_ngrams(3, '太宰治', novels))\n",
    "    large_3_miyazawa = list(author_ngrams(3, '宮沢賢治', novels))\n",
    "    print(len(large_3_dazai) == 899275)\n",
    "    print(len(large_3_miyazawa) == 868498)\n",
    "    print(large_3_dazai.count('である') == 2891)\n",
    "    print(large_3_miyazawa.count('である') == 290)\n",
    "tester()"
   ]
  },
  {
   "cell_type": "markdown",
   "metadata": {},
   "source": [
    "## 2: Occurrences of n-grams\n",
    "\n",
    "Define a function `histogram(ngs)`,\n",
    "which is given a list or iterator of n-grams and returns a dictionary whose keys are n-grams\n",
    "with the number of their occurrences as their value.\n",
    "The parameter `ngs` is a list or iterator of n-grams."
   ]
  },
  {
   "cell_type": "code",
   "execution_count": 5,
   "metadata": {},
   "outputs": [],
   "source": [
    "class Counter(dict):\n",
    "    def __missing__(self, k):\n",
    "        return 0\n",
    "    \n",
    "def histogram(ngs):\n",
    "    hist = Counter()\n",
    "    \n",
    "    for word in ngs:\n",
    "        hist[word] += 1\n",
    "    return hist"
   ]
  },
  {
   "cell_type": "code",
   "execution_count": 6,
   "metadata": {},
   "outputs": [
    {
     "name": "stdout",
     "output_type": "stream",
     "text": [
      "True\n",
      "True\n",
      "True\n",
      "True\n",
      "True\n",
      "True\n",
      "True\n",
      "True\n"
     ]
    }
   ],
   "source": [
    "def tester():\n",
    "    import pandas as pd\n",
    "    novels = pd.read_csv('known_novels.csv', encoding='utf-8')\n",
    "    dazai_histogram = histogram(author_ngrams(3, '太宰治', novels))\n",
    "    miyazawa_histogram = histogram(author_ngrams(3, '宮沢賢治', novels))\n",
    "    unknown_novels = pd.read_csv('unknown_novels.csv', encoding='utf-8')\n",
    "    un0_histogram = histogram(multiline_ngrams(3, unknown_novels.loc[0,'text']))\n",
    "    print(len(dazai_histogram) == 268576)\n",
    "    print(len(miyazawa_histogram) == 245770)\n",
    "    print(dazai_histogram['である'] == 2891)\n",
    "    print(miyazawa_histogram['である'] == 290)\n",
    "    print(dazai_histogram['です。'] == 1203)\n",
    "    print(miyazawa_histogram['です。'] == 1875)\n",
    "    print(un0_histogram['である'] == 4)\n",
    "    print(un0_histogram['です。'] == 18)\n",
    "tester()"
   ]
  },
  {
   "cell_type": "markdown",
   "metadata": {},
   "source": [
    "## 3: Probability ditributions of n-grams\n",
    "\n",
    "Define a function `probability_distribution(hist)`,\n",
    "which is given a distribution of occurrences of n-grams `hist` computed by the function `histogram` in Exercise 2,\n",
    "and returns the probability distribution of n-grams.\n",
    "The number of occurrences of each n-gram is divided by the total number of occurrences of all the n-grams.\n",
    "The function `probability_distribution` returns a dictionary\n",
    "whose keys are n-grams with the probability of their occurrences as their value."
   ]
  },
  {
   "cell_type": "code",
   "execution_count": 7,
   "metadata": {},
   "outputs": [],
   "source": [
    "def probability_distribution(hist):\n",
    "    prob = {}\n",
    "    total = 0\n",
    "    \n",
    "    for word in hist:\n",
    "        total += hist[word]\n",
    "    \n",
    "    for word in hist:\n",
    "        prob[word] = hist[word] / total\n",
    "    \n",
    "    return prob"
   ]
  },
  {
   "cell_type": "code",
   "execution_count": 8,
   "metadata": {},
   "outputs": [
    {
     "name": "stdout",
     "output_type": "stream",
     "text": [
      "True\n",
      "True\n"
     ]
    }
   ],
   "source": [
    "def tester():\n",
    "    import pandas as pd\n",
    "    novels = pd.read_csv('known_novels.csv', encoding='utf-8')\n",
    "    dazai_histogram = histogram(author_ngrams(3, '太宰治', novels))\n",
    "    miyazawa_histogram = histogram(author_ngrams(3, '宮沢賢治', novels))\n",
    "    print(round(probability_distribution(dazai_histogram)['である']*10**8) == 321481)\n",
    "    print(round(probability_distribution(miyazawa_histogram)['である']*10**8) == 33391)\n",
    "tester()"
   ]
  },
  {
   "cell_type": "markdown",
   "metadata": {},
   "source": [
    "## 4: Distance between probability distributions of n-grams\n",
    "\n",
    "You now compute the distance between probability distributions of n-grams in different texts.\n",
    "Suppose that two n-gram probability distributions $d_1$ and $d_2$ are given.\n",
    "In the following mathematical expressions, $d_i(x)$ denotes the probability of an n-gram $x$ in $d_i$.\n",
    "\n",
    "The Tankard distance between $d_1$ and $d_2$ is obtained by summing the difference of the probabilities\n",
    "of each n-gram in the two texts.\n",
    "If the difference of the probabilities of each n-gram is larger, the two texts are considered more different.\n",
    "The average difference for all n-grams is then computed.\n",
    "The Tankard distance is therefore defined as follows.\n",
    "\n",
    "$\\mbox{Tankard}(d_1, d_2) =\n",
    "\\frac{1}{\\mbox{card}(C)} \\sum_{x \\in C} {|d_1(x) - d_2(x)|}$,\n",
    "\n",
    "in which $C$ denotes the set of n-grams whose probabilities in $d_1$ and $d_2$ are both positive, that is,\n",
    "\n",
    "$C = \\{~x~|~d_1(x)>0~\\mbox{ and }~d_2(x) > 0 \\}$,\n",
    "\n",
    "and $\\mbox{card}(C)$ denotes the number of elements in $C$.\n",
    "\n",
    "If an n-gram probability distribution is represented by a dictionary,\n",
    "the probability of an n-gram that is not stored in the dictionary is considered 0.\n",
    "\n",
    "Now, define a function `Tankard(d1,d2)` that returns the Tankard distance\n",
    "between the two n-gram probability distributions `d1` and `d2` that are given as dictionaries."
   ]
  },
  {
   "cell_type": "code",
   "execution_count": 9,
   "metadata": {},
   "outputs": [],
   "source": [
    "def Tankard(d1, d2):\n",
    "    dist = 0\n",
    "    denom = 0\n",
    "    \n",
    "    for word in d1:\n",
    "        if word not in d2.keys():\n",
    "            continue\n",
    "        else:\n",
    "            diff = abs(d1[word] - d2[word])\n",
    "            denom += 1\n",
    "            dist += diff\n",
    "            \n",
    "    return dist/denom"
   ]
  },
  {
   "cell_type": "code",
   "execution_count": 10,
   "metadata": {},
   "outputs": [
    {
     "name": "stdout",
     "output_type": "stream",
     "text": [
      "True\n"
     ]
    }
   ],
   "source": [
    "def tester():\n",
    "    import pandas as pd\n",
    "    novels = pd.read_csv('known_novels.csv', encoding='utf-8')\n",
    "    dazai_histogram = histogram(author_ngrams(3, '太宰治', novels))\n",
    "    miyazawa_histogram = histogram(author_ngrams(3, '宮沢賢治', novels))\n",
    "    print(round(Tankard(probability_distribution(dazai_histogram),probability_distribution(miyazawa_histogram))*10**8) == 855)\n",
    "tester()"
   ]
  },
  {
   "cell_type": "markdown",
   "metadata": {},
   "source": [
    "## 5: Guessing the author\n",
    "\n",
    "Now, let's guess who wrote unknown novels, 太宰治 or 宮沢賢治.\n",
    "Define a function `which_author(n, known_novels, unknown_novels)` that\n",
    "* takes a positive integer `n`, a dataset of known novels `known_novels`, and a dataset of unknown novels `unknown_novels`, and \n",
    "* returns a list of guessed results for all the novels in `unknown_novels` in order. \n",
    "\n",
    "The author of a novel is guessed as follows:\n",
    "* Calculate the n-gram probability distribution of a given unknown novel;\n",
    "* Calculate its Tankard distance to that of the novels of 太宰治 in `known_novels`;\n",
    "* Calculate its Tankard distance to that of 宮沢賢治 in `known_novels`;\n",
    "* Conclude that the author is `'太宰治'` if the distance to 太宰治 is smaller than that to 宮沢賢治,\n",
    "* Conclude that the author is `'宮沢賢治'` otherwise.\n",
    "\n",
    "Note that `unknown_novels` contains author information (i.e., true solutions) in the `author` column, but you are not allowed to use it for guessing."
   ]
  },
  {
   "cell_type": "code",
   "execution_count": 11,
   "metadata": {},
   "outputs": [],
   "source": [
    "def ngrams(n, novel):\n",
    "    ngrams = []\n",
    "    for text in novel:  \n",
    "        for word in multiline_ngrams(n, text):\n",
    "            ngrams.append(word)    \n",
    "    return (ngrams)\n",
    "\n",
    "\n",
    "def which_author(n, known_novels, unknown_novels):\n",
    "    guess = []\n",
    "    \n",
    "    dazai_prob = probability_distribution(histogram(author_ngrams(n, '太宰治', known_novels)))\n",
    "    miyazawa_prob = probability_distribution(histogram(author_ngrams(n, '宮沢賢治', known_novels)))\n",
    "    \n",
    "    for novel in unknown_novels['text']:\n",
    "        novel_prob = probability_distribution(histogram(multiline_ngrams(n, novel)))\n",
    "        dazai_tankard = Tankard(novel_prob, dazai_prob)\n",
    "        miyazawa_tankard = Tankard(novel_prob, miyazawa_prob)\n",
    "        \n",
    "        if dazai_tankard <= miyazawa_tankard:\n",
    "            guess.append('太宰治')\n",
    "        else:\n",
    "            guess.append('宮沢賢治')\n",
    "    \n",
    "    return guess"
   ]
  },
  {
   "cell_type": "code",
   "execution_count": 12,
   "metadata": {},
   "outputs": [
    {
     "name": "stdout",
     "output_type": "stream",
     "text": [
      "True\n"
     ]
    }
   ],
   "source": [
    "# Inferencing\n",
    "\n",
    "def tester():\n",
    "    import pandas as pd\n",
    "    known_novels = pd.read_csv('known_novels.csv', encoding='utf-8')\n",
    "    unknown_novels = pd.read_csv('unknown_novels.csv', encoding='utf-8')\n",
    "    print(which_author(3, known_novels, unknown_novels) == ['太宰治', '太宰治', '太宰治', '太宰治', '太宰治', '宮沢賢治', '宮沢賢治', '宮沢賢治', '宮沢賢治', '宮沢賢治'])\n",
    "tester()"
   ]
  },
  {
   "cell_type": "code",
   "execution_count": null,
   "metadata": {},
   "outputs": [],
   "source": []
  }
 ],
 "metadata": {
  "kernelspec": {
   "display_name": "Python 3",
   "language": "python",
   "name": "python3"
  },
  "language_info": {
   "codemirror_mode": {
    "name": "ipython",
    "version": 3
   },
   "file_extension": ".py",
   "mimetype": "text/x-python",
   "name": "python",
   "nbconvert_exporter": "python",
   "pygments_lexer": "ipython3",
   "version": "3.7.4"
  },
  "lecture_term": "2019A1"
 },
 "nbformat": 4,
 "nbformat_minor": 2
}
